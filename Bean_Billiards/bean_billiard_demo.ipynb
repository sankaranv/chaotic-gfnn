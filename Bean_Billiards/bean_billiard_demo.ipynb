{
 "cells": [
  {
   "cell_type": "markdown",
   "metadata": {},
   "source": [
    "## Bean Billiard"
   ]
  },
  {
   "cell_type": "code",
   "execution_count": 15,
   "metadata": {},
   "outputs": [],
   "source": [
    "import os\n",
    "import sys\n",
    "import pathlib\n",
    "import numpy as np\n",
    "from tqdm import tqdm\n",
    "import matplotlib.pyplot as plt\n",
    "import matplotlib.gridspec as gridspec\n",
    "# sys.path.append(\"..\")\n",
    "from prepare_data import *\n",
    "from boundary import *\n",
    "from GFNN import GFNN"
   ]
  },
  {
   "cell_type": "markdown",
   "metadata": {},
   "source": [
    "### Prepare Data"
   ]
  },
  {
   "cell_type": "code",
   "execution_count": 16,
   "metadata": {},
   "outputs": [],
   "source": [
    "# TODO - randomly initialize r0, theta\n",
    "# (theta from 0 to pi or 0 to pi/2 to ensure cos is positive) and (r in some small region from [0,1] in each axis)\n",
    "# Parameters for root finding\n",
    "custom_rf = {'tol': 2E-12, 'maxiter': 50,\n",
    "            'rootfind_open': rf.newton,\n",
    "            'rootfind_bracketing': rf.bisect,\n",
    "            'param_rootfind': 'bracketing'}\n",
    "\n",
    "# Define boundary for bean billiard system\n",
    "a = 0.16\n",
    "b = 0.1\n",
    "c = 2.0\n",
    "d = 2.0"
   ]
  },
  {
   "cell_type": "code",
   "execution_count": 17,
   "metadata": {},
   "outputs": [],
   "source": [
    "bdy = BeanBoundary(a,b,c,d, **custom_rf)\n",
    "\n",
    "def plot_bean(bdy, seq_len, r0, theta):\n",
    "    \"\"\"Create side-by-side plots of trajectories with the same i.c.'s\n",
    "        but different boundarys.\"\"\"\n",
    "    plt.title(r'Trajectories for $r_0$={0}, $\\theta_0$={1}'\n",
    "                 .format(r0, theta))\n",
    "    v0 = np.array([np.cos(theta), np.sin(theta)])\n",
    "    bdyline = bdy.coords_cart(np.arange(0, 2*np.pi, 0.01))\n",
    "    plt.plot(bdyline[0], bdyline[1])\n",
    "    traj_line, = plt.plot([0, 0], [0, 0], 'o-')\n",
    "    # Initialize plotline data\n",
    "    state = init_state(r0, v0, bdy)\n",
    "    missing = seq_len - state['trajectory'].shape[1]\n",
    "    if missing > 0:\n",
    "        propagate(state, missing)\n",
    "        traj_line.set_xdata(state['trajectory'][0])\n",
    "        traj_line.set_ydata(state['trajectory'][1])\n",
    "    plt.title(str(bdy))\n",
    "    plt.xlabel(r'$x$')\n",
    "    plt.ylabel(r'$y$')\n",
    "    plt.ylim([-1, 1])\n",
    "\n",
    "# plot_bean(bdy, 50, np.array([1,0.2]), 0.1)"
   ]
  },
  {
   "cell_type": "code",
   "execution_count": 18,
   "metadata": {
    "scrolled": true
   },
   "outputs": [
    {
     "name": "stdout",
     "output_type": "stream",
     "text": [
      "Training data already exists!\n",
      "Testing data already exists!\n"
     ]
    }
   ],
   "source": [
    "# Generate dataset using the boundary defined above\n",
    "CURRENT_DIR = str(pathlib.Path(\".\").parent.absolute())\n",
    "prefix = \"chaotic_\"\n",
    "train_file_path, test_file_path = PrepareData(CURRENT_DIR + \"/data\",\n",
    "                                              a = a,\n",
    "                                              b = b,\n",
    "                                              c = c,\n",
    "                                              d = d,\n",
    "                                              n_train=10000,\n",
    "                                              n_test=100,\n",
    "                                              seq_len=2,\n",
    "                                              prefix=prefix,\n",
    "                                              **custom_rf)"
   ]
  },
  {
   "cell_type": "code",
   "execution_count": 19,
   "metadata": {},
   "outputs": [
    {
     "data": {
      "text/plain": [
       "(2, 4)"
      ]
     },
     "execution_count": 19,
     "metadata": {},
     "output_type": "execute_result"
    }
   ],
   "source": [
    "import torch\n",
    "data = torch.load(test_file_path)\n",
    "data.seqs[1].shape"
   ]
  },
  {
   "cell_type": "markdown",
   "metadata": {},
   "source": [
    "### Initialize (load) the model"
   ]
  },
  {
   "cell_type": "code",
   "execution_count": 20,
   "metadata": {},
   "outputs": [],
   "source": [
    "h = 0.5\n",
    "parameters = {\n",
    "    \"dim\": 2,\n",
    "    \"step_size\": h,\n",
    "    \"train_file_path\": train_file_path,\n",
    "    \"test_file_path\": test_file_path,\n",
    "    \"batch_size\": 200,\n",
    "    \"n_neurons\": [4, 200, 100, 50, 20, 1],\n",
    "    \"lr\": 1e-3,\n",
    "}\n",
    "# \n",
    "nn = GFNN(parameters)\n",
    "# If saved checkpoint of GFNN exists, load GFNN from the checkpoint.\n",
    "# Uncomment the following two lines if a loaded GFNN is deseired.\n",
    "# if os.path.exists(STORAGE_DIR + \"/checkpoint.pt\"):\n",
    "#     nn.Load(STORAGE_DIR)"
   ]
  },
  {
   "cell_type": "markdown",
   "metadata": {},
   "source": [
    "### Train"
   ]
  },
  {
   "cell_type": "code",
   "execution_count": 21,
   "metadata": {
    "scrolled": true
   },
   "outputs": [
    {
     "name": "stderr",
     "output_type": "stream",
     "text": [
      "Epoch 20: training loss=1.27e-01, testing loss=1.18e-01: 100%|██████████| 20/20 [00:05<00:00,  3.98it/s]\n"
     ]
    }
   ],
   "source": [
    "# Train.\n",
    "epochs = 20\n",
    "nn.Train(epochs)\n",
    "\n",
    "# Serialize the trained model.\n",
    "STORAGE_DIR = CURRENT_DIR + \"/\" + prefix + f\"({a},{b},{c},{d})\" + \"/\"\n",
    "if not os.path.exists(STORAGE_DIR):\n",
    "    os.mkdir(STORAGE_DIR)\n",
    "nn.Save(STORAGE_DIR)"
   ]
  },
  {
   "cell_type": "code",
   "execution_count": 22,
   "metadata": {
    "scrolled": true
   },
   "outputs": [
    {
     "data": {
      "text/plain": [
       "Text(0, 0.5, 'Training loss')"
      ]
     },
     "execution_count": 22,
     "metadata": {},
     "output_type": "execute_result"
    },
    {
     "data": {
      "image/png": "[encoded data removed]",
      "text/plain": [
       "<Figure size 432x288 with 1 Axes>"
      ]
     },
     "metadata": {
      "needs_background": "light"
     },
     "output_type": "display_data"
    }
   ],
   "source": [
    "fig, ax = plt.subplots(tight_layout=True)\n",
    "ax.semilogy((np.arange(len(nn.loss_array))+1)/(nn.n_train/nn.args[\"batch_size\"]), nn.loss_array, alpha=0.5)\n",
    "ax.set_xlabel(\"Epochs\", fontsize=20)\n",
    "ax.set_ylabel(\"Training loss\", fontsize=20)"
   ]
  },
  {
   "cell_type": "markdown",
   "metadata": {},
   "source": [
    "### Predict"
   ]
  },
  {
   "cell_type": "code",
   "execution_count": 23,
   "metadata": {},
   "outputs": [],
   "source": [
    "def EvolveFlow(nn, r, v, n):\n",
    "    \"\"\"\n",
    "    Evolve the flow by the trained GFNN.\n",
    "    Args:\n",
    "        nn: the neural network\n",
    "        r, v: the initial condition\n",
    "        n: the steps to evolve\n",
    "    \"\"\"\n",
    "    rspan = [r]\n",
    "    vspan = [v]\n",
    "    for i in tqdm(range(n)):\n",
    "        r, v = nn.Predict(r, v)\n",
    "        # p = np.fmod(p+2*np.pi, 2*np.pi)\n",
    "        # t = np.fmod(t+2*np.pi, 2*np.pi)\n",
    "        rspan.append(r)\n",
    "        vspan.append(v)\n",
    "    return np.array(rspan), np.array(vspan)\n",
    "\n",
    "def EvolveBilliard(bdy, r0, theta, seq_len, a, b, c, d):\n",
    "    \"\"\"\n",
    "    Evolve the exact maps.\n",
    "    Args:\n",
    "        q, t: the initial condition.\n",
    "        n: the steps to evolve.\n",
    "        K: parameters in standard map.\n",
    "    \"\"\"\n",
    "    # Generate seq_len steps of the billiard trajectory\n",
    "    bdy = BeanBoundary(a,b,c,d, **custom_rf)\n",
    "    v0 = np.array([np.cos(theta), np.sin(theta)])\n",
    "    state = init_state(r0, v0, bdy)\n",
    "    missing = seq_len - state['trajectory'].shape[1]\n",
    "    if missing > 0:\n",
    "        propagate(state, missing)\n",
    "    seq = state['trajectory'].T\n",
    "    return seq    \n",
    "    # pspan = [p]\n",
    "    # tspan = [t]\n",
    "    # for i in tqdm(range(n)):\n",
    "    #     p, t = StandardMap(p, t, K)\n",
    "    #     p = np.fmod(p+2*np.pi, 2*np.pi)\n",
    "    #     t = np.fmod(t+2*np.pi, 2*np.pi)\n",
    "    #     pspan.append(p)\n",
    "    #     tspan.append(t)\n",
    "    # return np.array(pspan), np.array(tspan)\n",
    "\n"
   ]
  },
  {
   "cell_type": "markdown",
   "metadata": {},
   "source": [
    "#### Evolve the flow"
   ]
  },
  {
   "cell_type": "code",
   "execution_count": 24,
   "metadata": {},
   "outputs": [
    {
     "name": "stderr",
     "output_type": "stream",
     "text": [
      "100%|██████████| 10000/10000 [00:31<00:00, 314.03it/s]\n"
     ]
    }
   ],
   "source": [
    "# Initial condition for prediction\n",
    "steps = 10000\n",
    "\n",
    "p, t = np.array([0.6,0.4]), np.array([np.cos(0.1), np.sin(0.1)])\n",
    "# pspan_exact, tspan_exact = EvolveExactMap(p, t, steps, K)\n",
    "pspan_nn, tspan_nn = EvolveFlow(nn, p, t, steps)\n"
   ]
  },
  {
   "cell_type": "markdown",
   "metadata": {},
   "source": [
    "#### Plot"
   ]
  },
  {
   "cell_type": "code",
   "execution_count": 25,
   "metadata": {},
   "outputs": [
    {
     "ename": "NameError",
     "evalue": "name 'tspan_exact' is not defined",
     "output_type": "error",
     "traceback": [
      "\u001b[0;31m---------------------------------------------------------------------------\u001b[0m",
      "\u001b[0;31mNameError\u001b[0m                                 Traceback (most recent call last)",
      "\u001b[1;32m/Users/sankaran/Library/CloudStorage/OneDrive-UniversityofMassachusetts/Code/gfnn/best_BeanBilliards-master/bean_billiard_demo.ipynb Cell 18'\u001b[0m in \u001b[0;36m<cell line: 5>\u001b[0;34m()\u001b[0m\n\u001b[1;32m      <a href='vscode-notebook-cell:/Users/sankaran/Library/CloudStorage/OneDrive-UniversityofMassachusetts/Code/gfnn/best_BeanBilliards-master/bean_billiard_demo.ipynb#ch0000017?line=1'>2</a>\u001b[0m gs \u001b[39m=\u001b[39m gridspec\u001b[39m.\u001b[39mGridSpec(\u001b[39m1\u001b[39m, \u001b[39m1\u001b[39m)\n\u001b[1;32m      <a href='vscode-notebook-cell:/Users/sankaran/Library/CloudStorage/OneDrive-UniversityofMassachusetts/Code/gfnn/best_BeanBilliards-master/bean_billiard_demo.ipynb#ch0000017?line=3'>4</a>\u001b[0m ax \u001b[39m=\u001b[39m fig\u001b[39m.\u001b[39madd_subplot(gs[\u001b[39m0\u001b[39m, \u001b[39m0\u001b[39m])\n\u001b[0;32m----> <a href='vscode-notebook-cell:/Users/sankaran/Library/CloudStorage/OneDrive-UniversityofMassachusetts/Code/gfnn/best_BeanBilliards-master/bean_billiard_demo.ipynb#ch0000017?line=4'>5</a>\u001b[0m ax\u001b[39m.\u001b[39mplot(tspan_exact, pspan_exact, \u001b[39m'\u001b[39m\u001b[39m.\u001b[39m\u001b[39m'\u001b[39m, label\u001b[39m=\u001b[39m\u001b[39m'\u001b[39m\u001b[39mTrue\u001b[39m\u001b[39m'\u001b[39m)\n\u001b[1;32m      <a href='vscode-notebook-cell:/Users/sankaran/Library/CloudStorage/OneDrive-UniversityofMassachusetts/Code/gfnn/best_BeanBilliards-master/bean_billiard_demo.ipynb#ch0000017?line=5'>6</a>\u001b[0m ax\u001b[39m.\u001b[39mplot(tspan_nn, pspan_nn, \u001b[39m'\u001b[39m\u001b[39m.\u001b[39m\u001b[39m'\u001b[39m, label\u001b[39m=\u001b[39m\u001b[39m'\u001b[39m\u001b[39mGFNN\u001b[39m\u001b[39m'\u001b[39m, alpha\u001b[39m=\u001b[39m\u001b[39m0.5\u001b[39m)\n\u001b[1;32m      <a href='vscode-notebook-cell:/Users/sankaran/Library/CloudStorage/OneDrive-UniversityofMassachusetts/Code/gfnn/best_BeanBilliards-master/bean_billiard_demo.ipynb#ch0000017?line=6'>7</a>\u001b[0m ax\u001b[39m.\u001b[39mset_xlabel(\u001b[39mr\u001b[39m\u001b[39m\"\u001b[39m\u001b[39m$\u001b[39m\u001b[39m\\\u001b[39m\u001b[39mtheta$\u001b[39m\u001b[39m\"\u001b[39m, fontsize\u001b[39m=\u001b[39m\u001b[39m20\u001b[39m)\n",
      "\u001b[0;31mNameError\u001b[0m: name 'tspan_exact' is not defined"
     ]
    },
    {
     "data": {
      "image/png": "[encoded data removed]",
      "text/plain": [
       "<Figure size 360x360 with 1 Axes>"
      ]
     },
     "metadata": {
      "needs_background": "light"
     },
     "output_type": "display_data"
    }
   ],
   "source": [
    "fig = plt.figure(tight_layout=True, figsize=(5, 5))\n",
    "gs = gridspec.GridSpec(1, 1)\n",
    "\n",
    "ax = fig.add_subplot(gs[0, 0])\n",
    "ax.plot(tspan_exact, pspan_exact, '.', label='True')\n",
    "ax.plot(tspan_nn, pspan_nn, '.', label='GFNN', alpha=0.5)\n",
    "ax.set_xlabel(r\"$\\theta$\", fontsize=20)\n",
    "ax.set_ylabel(r\"$p$\", fontsize=20)\n",
    "ax.set_xlim([0,2*np.pi])\n",
    "ax.set_ylim([0,2*np.pi])\n",
    "ax.set_title(\"Trajectory: epoch=\" + str(nn.epoch), fontsize=20)\n",
    "ax.legend(fontsize=20)"
   ]
  },
  {
   "cell_type": "code",
   "execution_count": 26,
   "metadata": {},
   "outputs": [
    {
     "ename": "NameError",
     "evalue": "name 'r0' is not defined",
     "output_type": "error",
     "traceback": [
      "\u001b[0;31m---------------------------------------------------------------------------\u001b[0m",
      "\u001b[0;31mNameError\u001b[0m                                 Traceback (most recent call last)",
      "\u001b[1;32m/Users/sankaran/Library/CloudStorage/OneDrive-UniversityofMassachusetts/Code/gfnn/best_BeanBilliards-master/bean_billiard_demo.ipynb Cell 19'\u001b[0m in \u001b[0;36m<cell line: 8>\u001b[0;34m()\u001b[0m\n\u001b[1;32m      <a href='vscode-notebook-cell:/Users/sankaran/Library/CloudStorage/OneDrive-UniversityofMassachusetts/Code/gfnn/best_BeanBilliards-master/bean_billiard_demo.ipynb#ch0000019?line=5'>6</a>\u001b[0m traj_line, \u001b[39m=\u001b[39m plt\u001b[39m.\u001b[39mplot([\u001b[39m0\u001b[39m, \u001b[39m0\u001b[39m], [\u001b[39m0\u001b[39m, \u001b[39m0\u001b[39m], \u001b[39m'\u001b[39m\u001b[39mo-\u001b[39m\u001b[39m'\u001b[39m)\n\u001b[1;32m      <a href='vscode-notebook-cell:/Users/sankaran/Library/CloudStorage/OneDrive-UniversityofMassachusetts/Code/gfnn/best_BeanBilliards-master/bean_billiard_demo.ipynb#ch0000019?line=6'>7</a>\u001b[0m \u001b[39m# Initialize plotline data\u001b[39;00m\n\u001b[0;32m----> <a href='vscode-notebook-cell:/Users/sankaran/Library/CloudStorage/OneDrive-UniversityofMassachusetts/Code/gfnn/best_BeanBilliards-master/bean_billiard_demo.ipynb#ch0000019?line=7'>8</a>\u001b[0m state \u001b[39m=\u001b[39m init_state(r0, v0, bdy)\n\u001b[1;32m      <a href='vscode-notebook-cell:/Users/sankaran/Library/CloudStorage/OneDrive-UniversityofMassachusetts/Code/gfnn/best_BeanBilliards-master/bean_billiard_demo.ipynb#ch0000019?line=8'>9</a>\u001b[0m missing \u001b[39m=\u001b[39m seq_len \u001b[39m-\u001b[39m state[\u001b[39m'\u001b[39m\u001b[39mtrajectory\u001b[39m\u001b[39m'\u001b[39m]\u001b[39m.\u001b[39mshape[\u001b[39m1\u001b[39m]\n\u001b[1;32m     <a href='vscode-notebook-cell:/Users/sankaran/Library/CloudStorage/OneDrive-UniversityofMassachusetts/Code/gfnn/best_BeanBilliards-master/bean_billiard_demo.ipynb#ch0000019?line=9'>10</a>\u001b[0m \u001b[39mif\u001b[39;00m missing \u001b[39m>\u001b[39m \u001b[39m0\u001b[39m:\n",
      "\u001b[0;31mNameError\u001b[0m: name 'r0' is not defined"
     ]
    },
    {
     "data": {
      "image/png": "[encoded data removed]",
      "text/plain": [
       "<Figure size 432x288 with 1 Axes>"
      ]
     },
     "metadata": {
      "needs_background": "light"
     },
     "output_type": "display_data"
    }
   ],
   "source": [
    "bdy = BeanBoundary(a,b,c,d, **custom_rf)\n",
    "seq_len = steps\n",
    "bdyline = bdy.coords_cart(np.arange(0, 2*np.pi, 0.01))\n",
    "plt.plot(bdyline[0], bdyline[1])\n",
    "plt.plot(pspan_nn[:,0], pspan_nn[:,1], 'o-')\n",
    "# Initialize plotline data\n",
    "state = init_state(r0, v0, bdy)\n",
    "missing = seq_len - state['trajectory'].shape[1]\n",
    "if missing > 0:\n",
    "    propagate(state, missing)\n",
    "    traj_line.set_xdata(state['trajectory'][0])\n",
    "    traj_line.set_ydata(state['trajectory'][1])\n",
    "plt.title(str(bdy))\n",
    "plt.xlabel(r'$x$')\n",
    "plt.ylabel(r'$y$')\n",
    "plt.ylim([-1, 1])"
   ]
  }
 ],
 "metadata": {
  "interpreter": {
   "hash": "09f8edc3bebac875f12405e5ca9aed7b0c670024eb5acfba76b417966bbb776e"
  },
  "kernelspec": {
   "display_name": "Python 3.10.4 ('deep')",
   "language": "python",
   "name": "python3"
  },
  "language_info": {
   "codemirror_mode": {
    "name": "ipython",
    "version": 3
   },
   "file_extension": ".py",
   "mimetype": "text/x-python",
   "name": "python",
   "nbconvert_exporter": "python",
   "pygments_lexer": "ipython3",
   "version": "3.10.4"
  }
 },
 "nbformat": 4,
 "nbformat_minor": 4
}
